{
 "cells": [
  {
   "cell_type": "code",
   "execution_count": 64,
   "metadata": {},
   "outputs": [],
   "source": [
    "A = [[ 1,   3, -4,   5, -2,  5,  1], \n",
    "    [  2,   0, -7,   6,  8,  8, 15],\n",
    "    [  4,   4, -2, -10,  7, -1,  7],\n",
    "    [ -1,   3,  1,   0, 11,  4, 21],\n",
    "    [ -7,   6, -4,  10,  5,  7,  6],\n",
    "    [ -5,   4,  3,  -5,  7,  8, 17],\n",
    "    [-11,   3,  4,  -8,  6, 16,  4]]\n",
    "\n",
    "B = [[ 1,   3, -4,   5, -2,  5,  1], \n",
    "    [  2,   0, -7,   6,  8,  8, 15],\n",
    "    [  4,   4, -2, -10,  7, -1,  7],\n",
    "    [ -1,   3,  1,   0, 11,  4, 21],\n",
    "    [ -7,   6,  4,  10,  5,  7,  6],\n",
    "    [ -5,   4,  3,  -5,  7,  8, 17],\n",
    "    [ 11,   3,  4,  -8,  6, 16,  4]]\n",
    "\n",
    "C = [[ 1,   3, -4,   5, -2,  5,  1], \n",
    "    [  2,   0, -7,   6,  8,  8, 15],\n",
    "    [  4,   4, -2, -10,  7, -1,  7],\n",
    "    [ -1,   3,  1,   0, 11,  4, 21],\n",
    "    [ -7,   6,  4,  10,  5,  7,  6],\n",
    "    [ -5,   4,  3,  -5,  7, -8, 17],\n",
    "    [ 11,   3,  4,  -8,  6, 16,  4]]"
   ]
  },
  {
   "cell_type": "code",
   "execution_count": 67,
   "metadata": {},
   "outputs": [],
   "source": [
    "def avg_diags(m):\n",
    "    diag1 = []\n",
    "    diag2 = []\n",
    "    if len(m[0]) == 1:\n",
    "        return [m[0][0],m[0][0]]\n",
    "    for i in range(len(m[0])):\n",
    "        \n",
    "        print(\"STEP {}\".format(i+1))\n",
    "        \n",
    "        j = -1*i\n",
    "        \n",
    "        if i == 0:\n",
    "            print(m[i][i])\n",
    "            print(m[-1][i])\n",
    "        else:\n",
    "            print(m[i][i])\n",
    "            print(m[j-1][i])\n",
    "            \n",
    "            \n",
    "        if (m[i][i] >= 0) and (i%2 != 0):\n",
    "            print('diag1.append: {}'.format(m[i][i]))\n",
    "            diag1.append(m[i][i])\n",
    "            \n",
    "        if i == 0:\n",
    "            if m[-1][i] < 0:\n",
    "                print('diag2.append: {}'.format(m[-1][i]))\n",
    "                diag2.append(m[-1][i])\n",
    "        else:\n",
    "            if m[j-1][i] < 0 and (i%2 == 0):\n",
    "                print('diag2.append: {}'.format(m[j-1][i]))\n",
    "                diag2.append(m[j-1][i])\n",
    "                \n",
    "        print(\"\")\n",
    "    print('diag1: {}'.format(diag1))\n",
    "    print('diag1: sum {}, length {}'.format(sum(diag1), len(diag1)))\n",
    "    print('--')\n",
    "    print('diag2: {}'.format(diag2))\n",
    "    print('diag2: sum {}, length {}'.format(sum(diag2), len(diag2)))\n",
    "    if len(diag1) > 0:\n",
    "        avg1 = round(sum(diag1)/len(diag1), 0)\n",
    "    else:\n",
    "        avg1 = -1\n",
    "    if len(diag2) > 0:\n",
    "        avg2 = abs(round(sum(diag2)/len(diag2), 0))\n",
    "    else:\n",
    "        avg2 = -1\n",
    "    return [avg1,avg2]"
   ]
  },
  {
   "cell_type": "code",
   "execution_count": 68,
   "metadata": {},
   "outputs": [
    {
     "name": "stdout",
     "output_type": "stream",
     "text": [
      "STEP 1\n",
      "1\n",
      "11\n",
      "\n",
      "STEP 2\n",
      "0\n",
      "4\n",
      "diag1.append: 0\n",
      "\n",
      "STEP 3\n",
      "-2\n",
      "4\n",
      "\n",
      "STEP 4\n",
      "0\n",
      "0\n",
      "diag1.append: 0\n",
      "\n",
      "STEP 5\n",
      "5\n",
      "7\n",
      "\n",
      "STEP 6\n",
      "-8\n",
      "8\n",
      "\n",
      "STEP 7\n",
      "4\n",
      "1\n",
      "\n",
      "diag1: [0, 0]\n",
      "diag1: sum 0, length 2\n",
      "--\n",
      "diag2: []\n",
      "diag2: sum 0, length 0\n"
     ]
    },
    {
     "data": {
      "text/plain": [
       "[0.0, -1]"
      ]
     },
     "execution_count": 68,
     "metadata": {},
     "output_type": "execute_result"
    }
   ],
   "source": [
    "avg_diags(C)"
   ]
  },
  {
   "cell_type": "code",
   "execution_count": 51,
   "metadata": {},
   "outputs": [],
   "source": [
    "def avg_diags(m):\n",
    "    diag1 = []\n",
    "    diag2 = []\n",
    "    if len(m[0]) == 1:\n",
    "        return [m[0][0],m[0][0]]\n",
    "    for i in range(len(m[0])):\n",
    "\n",
    "        j = -1*i\n",
    "       \n",
    "        if (m[i][i] >= 0) and (i%2 != 0):\n",
    "            \n",
    "            diag1.append(m[i][i])\n",
    "            \n",
    "        if i == 0:\n",
    "            if m[-1][i] < 0:\n",
    "               \n",
    "                diag2.append(m[-1][i])\n",
    "        else:\n",
    "            if m[j-1][i] < 0 and (i%2 == 0):\n",
    "                \n",
    "                diag2.append(m[j-1][i])\n",
    "                \n",
    "    if len(diag1) > 0:\n",
    "        avg1 = round(sum(diag1)/len(diag1), 0)\n",
    "    else:\n",
    "        avg1 = -1\n",
    "    if len(diag2) > 0:\n",
    "        avg2 = abs(round(sum(diag2)/len(diag2), 0))\n",
    "    else:\n",
    "        avg2 = -1\n",
    "    return [avg1,avg2]"
   ]
  },
  {
   "cell_type": "code",
   "execution_count": 52,
   "metadata": {},
   "outputs": [
    {
     "data": {
      "text/plain": [
       "[3.0, -8.0]"
      ]
     },
     "execution_count": 52,
     "metadata": {},
     "output_type": "execute_result"
    }
   ],
   "source": [
    "avg_diags(A)"
   ]
  },
  {
   "cell_type": "code",
   "execution_count": 29,
   "metadata": {},
   "outputs": [],
   "source": [
    "test = [1,4,3,6,7,9,2,5,8]\n",
    "\n",
    "def bubble(l):\n",
    "    snapshots = []\n",
    "    for i in range(len(l)):\n",
    "        if i < len(l)-1:\n",
    "            first = l[i]\n",
    "            second = l[i+1]\n",
    "            if l[i] > l[i+1]:\n",
    "                l[i] = second\n",
    "                l[i+1] = first\n",
    "    snapshots.append(l)\n",
    "    return snapshots"
   ]
  },
  {
   "cell_type": "code",
   "execution_count": 30,
   "metadata": {},
   "outputs": [
    {
     "data": {
      "text/plain": [
       "[[1, 3, 4, 6, 7, 2, 5, 8, 9]]"
      ]
     },
     "execution_count": 30,
     "metadata": {},
     "output_type": "execute_result"
    }
   ],
   "source": [
    "bubble(test)"
   ]
  },
  {
   "cell_type": "code",
   "execution_count": null,
   "metadata": {},
   "outputs": [],
   "source": [
    "def create_phone_number(n):\n",
    "    count = 0\n",
    "    phone_string = \"(\"\n",
    "    for i in range(3):\n",
    "        phone_string.join(\"n[i]\")\n",
    "    phone_string.join(\") \")\n",
    "    for i in range(3,6):\n",
    "        phone_string.join(\"n[i]\")\n",
    "    phone_string.join(\"-\")\n",
    "    for i in range(6,10):\n",
    "        phone_string.join(\"n[i]\")\n",
    "    return phone_string"
   ]
  },
  {
   "cell_type": "code",
   "execution_count": 37,
   "metadata": {},
   "outputs": [],
   "source": [
    "test = ['22:59', '23:59', '14:00']\n",
    "def solve(arr):\n",
    "    times = []\n",
    "    for i in range(len(arr)):\n",
    "        diff = 0\n",
    "        hour_min = arr[i].split(':')\n",
    "        total_mins = int(hour_min[0])*60 + int(hour_min[1])\n",
    "        times.append(total_mins)\n",
    "    times.sort()\n",
    "    max_diff = 0\n",
    "    for i in range(len(times)):\n",
    "        if i < len(times)-1:\n",
    "            if times[i+1] - times[i] > max_diff:\n",
    "                max_diff = (times[i+1] - times[i])\n",
    "    hours_diff = max_diff//60\n",
    "    mins_diff = max_diff\n",
    "    return hours_diff"
   ]
  },
  {
   "cell_type": "code",
   "execution_count": 38,
   "metadata": {},
   "outputs": [
    {
     "data": {
      "text/plain": [
       "8"
      ]
     },
     "execution_count": 38,
     "metadata": {},
     "output_type": "execute_result"
    }
   ],
   "source": [
    "solve(test)"
   ]
  },
  {
   "cell_type": "code",
   "execution_count": null,
   "metadata": {},
   "outputs": [],
   "source": []
  }
 ],
 "metadata": {
  "kernelspec": {
   "display_name": "Python 3",
   "language": "python",
   "name": "python3"
  },
  "language_info": {
   "codemirror_mode": {
    "name": "ipython",
    "version": 3
   },
   "file_extension": ".py",
   "mimetype": "text/x-python",
   "name": "python",
   "nbconvert_exporter": "python",
   "pygments_lexer": "ipython3",
   "version": "3.6.10"
  },
  "toc": {
   "base_numbering": 1,
   "nav_menu": {},
   "number_sections": true,
   "sideBar": true,
   "skip_h1_title": false,
   "title_cell": "Table of Contents",
   "title_sidebar": "Contents",
   "toc_cell": false,
   "toc_position": {},
   "toc_section_display": true,
   "toc_window_display": true
  }
 },
 "nbformat": 4,
 "nbformat_minor": 2
}
