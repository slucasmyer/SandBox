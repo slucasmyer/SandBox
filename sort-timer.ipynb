{
 "cells": [
  {
   "cell_type": "code",
   "execution_count": 5,
   "metadata": {},
   "outputs": [],
   "source": [
    "# Author: Sullivan Lucas Myer\n",
    "# Date: 5/7/20\n",
    "# Description:\n",
    "\n",
    "\n",
    "import time\n",
    "import random\n",
    "import matplotlib.pyplot as plt\n",
    "\n",
    "\n",
    "def sort_timer(func):\n",
    "    def timer(a_list):\n",
    "        beg = time.perf_counter()\n",
    "        func(a_list)\n",
    "        end = time.perf_counter()\n",
    "        return end - beg\n",
    "    return timer\n",
    "\n",
    "\n",
    "@sort_timer\n",
    "def bubble_sort(a_list):\n",
    "    \"\"\"\n",
    "    Sorts a_list in ascending order\n",
    "    \"\"\"\n",
    "    for pass_num in range(len(a_list) - 1):\n",
    "        for index in range(len(a_list) - 1 - pass_num):\n",
    "            if a_list[index] > a_list[index + 1]:\n",
    "                temp = a_list[index]\n",
    "                a_list[index] = a_list[index + 1]\n",
    "                a_list[index + 1] = temp\n",
    "\n",
    "\n",
    "@sort_timer\n",
    "def insertion_sort(a_list):\n",
    "    \"\"\"\n",
    "    Sorts a_list in ascending order\n",
    "    \"\"\"\n",
    "    for index in range(1, len(a_list)):\n",
    "        value = a_list[index]\n",
    "        pos = index - 1\n",
    "        while pos >= 0 and a_list[pos] > value:\n",
    "            a_list[pos + 1] = a_list[pos]\n",
    "            pos -= 1\n",
    "        a_list[pos + 1] = value\n",
    "\n",
    "\n",
    "def compare_sorts(insertion, bubble):\n",
    "    insertion_times = []\n",
    "    bubble_times = []\n",
    "    for j in range(1000,10001, 1000):\n",
    "        random1 = [random.randint(1, 10001) for i in range(j)]\n",
    "        random2 = list(random1)\n",
    "        insertion_times.append(insertion(random1))\n",
    "        bubble_times.append(bubble(random2))\n",
    "    plt.plot(range(1000,10001, 1000), insertion_times, 'ro--', linewidth=2)\n",
    "    plt.plot(range(1000,10001, 1000), bubble_times, 'go--', linewidth=2)\n",
    "    plt.show()"
   ]
  },
  {
   "cell_type": "code",
   "execution_count": 6,
   "metadata": {},
   "outputs": [
    {
     "data": {
      "image/png": "[encoded data removed]",
      "text/plain": [
       "<Figure size 432x288 with 1 Axes>"
      ]
     },
     "metadata": {
      "needs_background": "light"
     },
     "output_type": "display_data"
    }
   ],
   "source": [
    "compare_sorts(insertion_sort, bubble_sort)"
   ]
  },
  {
   "cell_type": "code",
   "execution_count": null,
   "metadata": {},
   "outputs": [],
   "source": []
  }
 ],
 "metadata": {
  "kernelspec": {
   "display_name": "Python 3",
   "language": "python",
   "name": "python3"
  },
  "language_info": {
   "codemirror_mode": {
    "name": "ipython",
    "version": 3
   },
   "file_extension": ".py",
   "mimetype": "text/x-python",
   "name": "python",
   "nbconvert_exporter": "python",
   "pygments_lexer": "ipython3",
   "version": "3.6.10"
  },
  "toc": {
   "base_numbering": 1,
   "nav_menu": {},
   "number_sections": true,
   "sideBar": true,
   "skip_h1_title": false,
   "title_cell": "Table of Contents",
   "title_sidebar": "Contents",
   "toc_cell": false,
   "toc_position": {},
   "toc_section_display": true,
   "toc_window_display": true
  }
 },
 "nbformat": 4,
 "nbformat_minor": 4
}
