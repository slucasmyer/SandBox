{
 "cells": [
  {
   "cell_type": "code",
   "execution_count": null,
   "metadata": {},
   "outputs": [],
   "source": [
    "import numpy as np\n",
    "import math\n",
    "import random\n",
    "import matplotlib.pyplot as plt\n",
    "from IPython.display import clear_output\n",
    "\n",
    "PI = 3.1415926\n",
    "e = 2.71828\n"
   ]
  },
  {
   "cell_type": "code",
   "execution_count": null,
   "metadata": {},
   "outputs": [],
   "source": [
    "def f_of_x(x):\n",
    "     \n",
    "    return ((e**(-1*x))/(1+(x-1)**2))"
   ]
  },
  {
   "cell_type": "code",
   "execution_count": null,
   "metadata": {},
   "outputs": [],
   "source": [
    "def random_generator(min_val, max_val):\n",
    "    \n",
    "    interval = (max_val - min_val)\n",
    "    \n",
    "    x_choice = random.uniform(0,1)\n",
    "    \n",
    "    return (min_val + interval*x_choice)"
   ]
  },
  {
   "cell_type": "code",
   "execution_count": null,
   "metadata": {},
   "outputs": [],
   "source": [
    "def crude_monte_carlo(samples=10000):\n",
    "    \n",
    "    lower_bound = 0\n",
    "    upper_bound = 5\n",
    "    total = 0\n",
    "    \n",
    "    for i in range(samples):\n",
    "        x = random_generator(lower_bound, upper_bound)\n",
    "        total += f_of_x(x)\n",
    "    \n",
    "    return ((upper_bound - lower_bound) * float(total/samples))\n",
    "\n",
    "crude_monte_carlo()"
   ]
  },
  {
   "cell_type": "code",
   "execution_count": null,
   "metadata": {},
   "outputs": [],
   "source": [
    "\n",
    "def crude_MC_variance(samples = 10000):\n",
    "    \n",
    "    upper_bound = 5\n",
    "    total = 0\n",
    "    \n",
    "    for i in range(samples):\n",
    "        x = random_generator(0, upper_bound)\n",
    "        total += f_of_x(x)**2\n",
    "    \n",
    "    squares = (total*upper_bound/samples)\n",
    "    total = 0\n",
    "    \n",
    "    for i in range(samples):\n",
    "        x = random_generator(0, upper_bound)\n",
    "        total = f_of_x(x)\n",
    "    \n",
    "    ave_squares = (upper_bound*total/samples)**2\n",
    "    \n",
    "    return (squares - ave_squares)\n",
    "crude_MC_variance()"
   ]
  },
  {
   "cell_type": "code",
   "execution_count": null,
   "metadata": {},
   "outputs": [],
   "source": [
    "\n"
   ]
  },
  {
   "cell_type": "code",
   "execution_count": null,
   "metadata": {},
   "outputs": [],
   "source": []
  }
 ],
 "metadata": {
  "kernelspec": {
   "display_name": "Python 3",
   "language": "python",
   "name": "python3"
  },
  "language_info": {
   "codemirror_mode": {
    "name": "ipython",
    "version": 3
   },
   "file_extension": ".py",
   "mimetype": "text/x-python",
   "name": "python",
   "nbconvert_exporter": "python",
   "pygments_lexer": "ipython3",
   "version": "3.6.10"
  },
  "toc": {
   "base_numbering": 1,
   "nav_menu": {},
   "number_sections": true,
   "sideBar": true,
   "skip_h1_title": false,
   "title_cell": "Table of Contents",
   "title_sidebar": "Contents",
   "toc_cell": false,
   "toc_position": {},
   "toc_section_display": true,
   "toc_window_display": true
  }
 },
 "nbformat": 4,
 "nbformat_minor": 2
}
