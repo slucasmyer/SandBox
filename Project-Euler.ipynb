{
 "cells": [
  {
   "cell_type": "markdown",
   "metadata": {},
   "source": [
    "# sum of multiples of 3 and 5"
   ]
  },
  {
   "cell_type": "code",
   "execution_count": 6,
   "metadata": {},
   "outputs": [
    {
     "data": {
      "text/plain": [
       "233168"
      ]
     },
     "execution_count": 6,
     "metadata": {},
     "output_type": "execute_result"
    }
   ],
   "source": [
    "acc = 0 \n",
    "for i in range(1000):\n",
    "    if i%3 == 0 or i%5 == 0:\n",
    "        acc += i\n",
    "acc"
   ]
  },
  {
   "cell_type": "markdown",
   "metadata": {},
   "source": [
    "# Even Fibonacci Numbers"
   ]
  },
  {
   "cell_type": "code",
   "execution_count": 7,
   "metadata": {},
   "outputs": [
    {
     "data": {
      "text/plain": [
       "4613732"
      ]
     },
     "execution_count": 7,
     "metadata": {},
     "output_type": "execute_result"
    }
   ],
   "source": [
    "terms = [0, 1]\n",
    "acc = 0\n",
    "index = 1\n",
    "while terms[index] < 4000000:\n",
    "    new_term = terms[index-1] + terms[index]\n",
    "    terms.append(new_term)\n",
    "    index += 1\n",
    "    if new_term % 2 == 0 and new_term <= 4000000:\n",
    "        acc += new_term\n",
    "acc"
   ]
  },
  {
   "cell_type": "markdown",
   "metadata": {},
   "source": [
    "# Largest Prime Factor"
   ]
  },
  {
   "cell_type": "code",
   "execution_count": null,
   "metadata": {},
   "outputs": [],
   "source": [
    "n = 600851475143\n",
    "div = 2\n",
    "maxFact = None\n",
    "while n != 0:\n",
    "    if n % div != 0:\n",
    "        div = div + 1\n",
    "    else:\n",
    "        maxFact = n\n",
    "        n = n / div\n",
    "        if n == 1:\n",
    "            print(maxFact, \"is the largest prime factor\")"
   ]
  },
  {
   "cell_type": "markdown",
   "metadata": {},
   "source": [
    "# Largest Palindrome Product"
   ]
  },
  {
   "cell_type": "code",
   "execution_count": 35,
   "metadata": {
    "scrolled": false
   },
   "outputs": [
    {
     "data": {
      "text/plain": [
       "906609"
      ]
     },
     "execution_count": 35,
     "metadata": {},
     "output_type": "execute_result"
    }
   ],
   "source": [
    "pals = []\n",
    "for i in range(100,1000):\n",
    "    for j in range(100,1000):\n",
    "        prod = str(i*j)\n",
    "        pal = True\n",
    "        r_index = -1\n",
    "        for index in range(0, (len(prod)//2) + 1):\n",
    "            if prod[index] != prod[r_index]:\n",
    "                pal = False\n",
    "            r_index -= 1\n",
    "        if pal:\n",
    "            pals.append(int(prod))\n",
    "max(pals)"
   ]
  },
  {
   "cell_type": "markdown",
   "metadata": {},
   "source": [
    "# Smallest Multiple"
   ]
  },
  {
   "cell_type": "code",
   "execution_count": 42,
   "metadata": {},
   "outputs": [
    {
     "data": {
      "text/plain": [
       "232792560"
      ]
     },
     "execution_count": 42,
     "metadata": {},
     "output_type": "execute_result"
    }
   ],
   "source": [
    "n = 20\n",
    "searching = True\n",
    "while searching:\n",
    "    for i in range(1, 21):\n",
    "        if n%i != 0:\n",
    "            break\n",
    "    if i == 20:\n",
    "        searching = False\n",
    "    else:\n",
    "        n += 1\n",
    "n"
   ]
  },
  {
   "cell_type": "markdown",
   "metadata": {},
   "source": [
    "# Sum Square Difference"
   ]
  },
  {
   "cell_type": "code",
   "execution_count": 2,
   "metadata": {},
   "outputs": [
    {
     "data": {
      "text/plain": [
       "25164150"
      ]
     },
     "execution_count": 2,
     "metadata": {},
     "output_type": "execute_result"
    }
   ],
   "source": [
    "n = 101\n",
    "squared_sum = sum([i for i in range(n)])**2\n",
    "sum_n_square = sum([i**2 for i in range(n)])\n",
    "diff = squared_sum - sum_n_square\n",
    "diff"
   ]
  },
  {
   "cell_type": "markdown",
   "metadata": {},
   "source": [
    "# 10001st Prime Number"
   ]
  },
  {
   "cell_type": "code",
   "execution_count": 13,
   "metadata": {
    "scrolled": true
   },
   "outputs": [],
   "source": [
    "primes = []\n",
    "num = 1\n",
    "while len(primes) <= 10000:\n",
    "    div = 2\n",
    "    num += 1\n",
    "    while div < num:\n",
    "        if num % div == 0: # if divisor cleanly divides number, then number not prime\n",
    "\n",
    "            break\n",
    "        else: #\n",
    "            div += 1\n",
    "    if div == num:\n",
    "        primes.append(num)          "
   ]
  },
  {
   "cell_type": "code",
   "execution_count": 29,
   "metadata": {},
   "outputs": [
    {
     "name": "stdout",
     "output_type": "stream",
     "text": [
      "23514624000\n"
     ]
    }
   ],
   "source": [
    "myString = \"7316717653133062491922511967442657474235534919493496983520312774506326239578318016984801869478851843858615607891129494954595017379583319528532088055111254069874715852386305071569329096329522744304355766896648950445244523161731856403098711121722383113622298934233803081353362766142828064444866452387493035890729629049156044077239071381051585930796086670172427121883998797908792274921901699720888093776657273330010533678812202354218097512545405947522435258490771167055601360483958644670632441572215539753697817977846174064955149290862569321978468622482839722413756570560574902614079729686524145351004748216637048440319989000889524345065854122758866688116427171479924442928230863465674813919123162824586178664583591245665294765456828489128831426076900422421902267105562632111110937054421750694165896040807198403850962455444362981230987879927244284909188845801561660979191338754992005240636899125607176060588611646710940507754100225698315520005593572972571636269561882670428252483600823257530420752963450\"\n",
    "for i in range(len(myString)-12):\n",
    "    product = int(myString[i])\n",
    "    for j in range(i+1,i+13):\n",
    "        product *= int(myString[j])\n",
    "    if i == 0:\n",
    "        currentMax = product\n",
    "    else:\n",
    "        if product > currentMax:\n",
    "            currentMax = product\n",
    "print(currentMax)"
   ]
  },
  {
   "cell_type": "code",
   "execution_count": null,
   "metadata": {},
   "outputs": [],
   "source": []
  }
 ],
 "metadata": {
  "kernelspec": {
   "display_name": "Python 3",
   "language": "python",
   "name": "python3"
  },
  "language_info": {
   "codemirror_mode": {
    "name": "ipython",
    "version": 3
   },
   "file_extension": ".py",
   "mimetype": "text/x-python",
   "name": "python",
   "nbconvert_exporter": "python",
   "pygments_lexer": "ipython3",
   "version": "3.7.4"
  },
  "toc": {
   "base_numbering": 1,
   "nav_menu": {},
   "number_sections": true,
   "sideBar": true,
   "skip_h1_title": false,
   "title_cell": "Table of Contents",
   "title_sidebar": "Contents",
   "toc_cell": false,
   "toc_position": {},
   "toc_section_display": true,
   "toc_window_display": true
  }
 },
 "nbformat": 4,
 "nbformat_minor": 4
}
