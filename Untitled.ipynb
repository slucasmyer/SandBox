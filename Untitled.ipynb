{
 "cells": [
  {
   "cell_type": "code",
   "execution_count": 9,
   "metadata": {},
   "outputs": [
    {
     "name": "stdout",
     "output_type": "stream",
     "text": [
      "dAy OnE SwImMiNg WeNt dUcKs lItTlE tHrEe\n"
     ]
    }
   ],
   "source": [
    "def reverse_words_order_and_swap_cases(sentence):\n",
    "    stringy = ' '.join(sentence.split(' ')[::-1])\n",
    "    new_stringy = ''\n",
    "    for i in stringy:\n",
    "        if i.isupper():\n",
    "            new_stringy = new_stringy + i.lower()\n",
    "        else:\n",
    "            new_stringy = new_stringy + i.upper()\n",
    "    return new_stringy\n",
    "sent = 'ThReE LiTtLe DuCkS wEnT sWiMmInG oNe DaY'\n",
    "new_sent = reverse_words_order_and_swap_cases(sent)\n",
    "print(new_sent)"
   ]
  },
  {
   "cell_type": "code",
   "execution_count": null,
   "metadata": {},
   "outputs": [],
   "source": [
    "def findSubstring(s, k):\n",
    "    longestSubString = None\n",
    "    mostVowels = 0\n",
    "    for i in range(len(s)-k):\n",
    "        subString = s[i:i+k]\n",
    "        vowels = sum([1 for j in subString if j in ['a','e','i','o','u']])\n",
    "        if vowels > mostVowels:\n",
    "            mostVowels = vowels\n",
    "            longestSubString = subString\n",
    "    if mostVowels == 0:\n",
    "        longestSubString = 'Not found!'\n",
    "    return longestSubString"
   ]
  }
 ],
 "metadata": {
  "kernelspec": {
   "display_name": "Python 3",
   "language": "python",
   "name": "python3"
  },
  "language_info": {
   "codemirror_mode": {
    "name": "ipython",
    "version": 3
   },
   "file_extension": ".py",
   "mimetype": "text/x-python",
   "name": "python",
   "nbconvert_exporter": "python",
   "pygments_lexer": "ipython3",
   "version": "3.7.4"
  },
  "toc": {
   "base_numbering": 1,
   "nav_menu": {},
   "number_sections": true,
   "sideBar": true,
   "skip_h1_title": false,
   "title_cell": "Table of Contents",
   "title_sidebar": "Contents",
   "toc_cell": false,
   "toc_position": {},
   "toc_section_display": true,
   "toc_window_display": true
  }
 },
 "nbformat": 4,
 "nbformat_minor": 2
}
